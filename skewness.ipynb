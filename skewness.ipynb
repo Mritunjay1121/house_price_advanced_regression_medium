{
 "cells": [
  {
   "cell_type": "code",
   "execution_count": null,
   "id": "a1627e3c-c205-4aa2-831b-f89a779fefef",
   "metadata": {},
   "outputs": [],
   "source": [
    "\n",
    "def simplify_skewed_columns(df_train:pd.DataFrame,strategy:str,threshold:int):\n",
    "    most_skewed=[]\n",
    "    for col in continuous_cols:\n",
    "        if df_train[col].skew()<-threshold or df_train[col].skew()>threshold:\n",
    "            most_skewed.append(col)\n",
    "\n",
    "          \n",
    "    # Removing skewness in columns\n",
    "\n",
    "    for col in most_skewed:\n",
    "\n",
    "        if strategy==\"boxcox\":\n",
    "            df_train[col],parameters=stat.boxcox(df_train[col])\n",
    "        elif strategy==\"log\":\n",
    "            trf = FunctionTransformer(func=np.log1p)\n",
    "            X=trf.fit_transform(df_train[col])\n",
    "            df_train[col]=X\n",
    "        elif strategy==\"sqrt\":\n",
    "            df_train[col]=np.sqrt(df_train[col])"
   ]
  }
 ],
 "metadata": {
  "kernelspec": {
   "display_name": "Python 3 (ipykernel)",
   "language": "python",
   "name": "python3"
  },
  "language_info": {
   "codemirror_mode": {
    "name": "ipython",
    "version": 3
   },
   "file_extension": ".py",
   "mimetype": "text/x-python",
   "name": "python",
   "nbconvert_exporter": "python",
   "pygments_lexer": "ipython3",
   "version": "3.9.13"
  }
 },
 "nbformat": 4,
 "nbformat_minor": 5
}
